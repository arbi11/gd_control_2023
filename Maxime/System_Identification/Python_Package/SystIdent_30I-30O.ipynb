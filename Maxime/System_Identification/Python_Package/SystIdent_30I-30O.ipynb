{
 "cells": [
  {
   "cell_type": "code",
   "execution_count": 1,
   "id": "1171c772",
   "metadata": {},
   "outputs": [],
   "source": [
    "import numpy as np\n",
    "import pandas as pd\n",
    "import matplotlib.pyplot as plt\n",
    "import csv\n",
    "from sklearn.model_selection import train_test_split\n",
    "from sysidentpy.model_structure_selection import FROLS\n",
    "from sysidentpy.basis_function._basis_function import Polynomial\n",
    "from sysidentpy.metrics import root_relative_squared_error\n",
    "from sysidentpy.utils.generate_data import get_siso_data\n",
    "from sysidentpy.utils.display_results import results\n",
    "from sysidentpy.utils.plotting import plot_residues_correlation, plot_results\n",
    "from sysidentpy.residues.residues_correlation import compute_residues_autocorrelation, compute_cross_correlation"
   ]
  },
  {
   "cell_type": "markdown",
   "id": "e36f9dda",
   "metadata": {},
   "source": [
    "### Data \n",
    "Using data from 28R30S model simulation, 'U_core_T4B_08June23.csv'.<br>\n",
    "Input (30) : Current of stator 1 to 30 <br>\n",
    "Output(30) : Torque of stator 1 to 30. "
   ]
  },
  {
   "cell_type": "code",
   "execution_count": 4,
   "id": "48008341",
   "metadata": {},
   "outputs": [
    {
     "name": "stdout",
     "output_type": "stream",
     "text": [
      "(702, 33)\n",
      "[[1, 2], [1, 2], [1, 2], [1, 2], [1, 2], [1, 2], [1, 2], [1, 2], [1, 2], [1, 2], [1, 2], [1, 2], [1, 2], [1, 2], [1, 2], [1, 2], [1, 2], [1, 2], [1, 2], [1, 2], [1, 2], [1, 2], [1, 2], [1, 2], [1, 2], [1, 2], [1, 2], [1, 2], [1, 2], [1, 2], [1, 2], [1, 2], [1, 2]]\n"
     ]
    }
   ],
   "source": [
    "\n",
    "url = \"C:/Users/mfavre4/Desktop/System_Identification/Python_Package/Data/U_core_T4B_08June23.csv\"\n",
    "df = pd.read_csv(url, sep=\",\")\n",
    "dataset = df.astype(float)\n",
    "\n",
    "#Inputs - Current of each poles\n",
    "ds_I = (dataset.loc[:,\"I_1\":\"I_30\"])\n",
    "\n",
    "#Output - Total torque\n",
    "frames = [(dataset.loc[0:701,\"totalTorque_0\":\"totalTorque_29\"]),(dataset.loc[0:701,'totalTorque_30']),(dataset.loc[0:701,'Total_Torque']),(dataset.loc[0:701,'Solved']) ]\n",
    "ds_T = pd.concat(frames,axis=1)\n",
    "\n",
    "print(ds_T.shape)\n",
    "\n",
    "I_id, I_val, xlags = [None for n in range(ds_I.shape[1])],[None for n in range(ds_I.shape[1])],[None for n in range(ds_I.shape[1])]\n",
    "T_id, T_val, ylags = [None for n in range(ds_T.shape[1])],[None for n in range(ds_T.shape[1])],[None for n in range(ds_T.shape[1])]\n",
    "\n",
    "\n",
    "\n",
    "#---------------Input setup\n",
    "for i,c in enumerate(ds_I):\n",
    "    #Creating id arrays with the current of each pole\n",
    "    exec(str(c)+'_id'+'= ds_I[str(c)][0:492].values.reshape(-1, 1)')\n",
    "    exec('I_id[i]='+str(c)+'_id')\n",
    "    \n",
    "    #Creating validation arrays with the current of each pole\n",
    "    exec(str(c)+'_val'+'= ds_I[str(c)][492:702:].values.reshape(-1, 1)')\n",
    "    exec('I_val[i]='+str(c)+'_val')\n",
    "\n",
    "#Input id and validation sets\n",
    "x_id = np.concatenate([x for x in I_id], axis =1 )  \n",
    "x_val = np.concatenate([x for x in I_val], axis =1 ) \n",
    "\n",
    "#Output id and validation sets\n",
    "y_id, y_val = ds_T['Total_Torque'][0:492].values.reshape(-1, 1), ds_T['Total_Torque'][492::].values.reshape(-1, 1)\n",
    "\n",
    "#Lags for each inputs [[1,2], [1,2]...]\n",
    "for i,x in enumerate(xlags): xlags[i] = ([i for i in range(1,2)])\n",
    "    \n",
    "    \n",
    "    \n",
    "#---------------Output setup\n",
    "for i,c in enumerate(ds_T):\n",
    "    #Creating id arrays with the current of each pole\n",
    "    exec(str(c)+'_id'+'= ds_T[str(c)][0:492].values.reshape(-1, 1)')\n",
    "    exec('T_id[i]='+str(c)+'_id')\n",
    "    \n",
    "    #Creating validation arrays with the current of each pole\n",
    "    exec(str(c)+'_val'+'= ds_T[str(c)][492:702:].values.reshape(-1, 1)')\n",
    "    exec('T_val[i]='+str(c)+'_val')\n",
    "    \n",
    "y_id = np.concatenate([x for x in T_id], axis =1 )  \n",
    "y_val = np.concatenate([x for x in T_val], axis =1 ) \n",
    "\n",
    "\n",
    "#ylags = [i for i in range(0,ds_T.shape[1])]\n",
    "#np.asarray(ylags, dtype=np.float32)\n",
    "for i,x in enumerate(ylags): ylags[i] = ([i for i in range(1,3)])\n",
    "print(ylags)\n",
    "\n"
   ]
  },
  {
   "cell_type": "code",
   "execution_count": 5,
   "id": "22f4f0ad",
   "metadata": {},
   "outputs": [
    {
     "name": "stderr",
     "output_type": "stream",
     "text": [
      "C:\\Users\\mfavre4\\AppData\\Local\\anaconda3\\Lib\\site-packages\\sysidentpy\\utils\\deprecation.py:37: FutureWarning: Passing a string to define the estimator will rise an error in v0.4.0. \n",
      " You'll have to use FROLS(estimator=LeastSquares()) instead. \n",
      " The only change is that you'll have to define the estimator first instead of passing a string like 'least_squares'. \n",
      " This change will make easier to implement new estimators and it'll improve code readability.\n",
      "  warnings.warn(message, FutureWarning)\n"
     ]
    },
    {
     "ename": "TypeError",
     "evalue": "unsupported operand type(s) for -: 'int' and 'list'",
     "output_type": "error",
     "traceback": [
      "\u001b[1;31m---------------------------------------------------------------------------\u001b[0m",
      "\u001b[1;31mTypeError\u001b[0m                                 Traceback (most recent call last)",
      "Cell \u001b[1;32mIn[5], line 13\u001b[0m\n\u001b[0;32m      2\u001b[0m basis_function \u001b[38;5;241m=\u001b[39m Polynomial(degree\u001b[38;5;241m=\u001b[39mdeg)\n\u001b[0;32m      3\u001b[0m model \u001b[38;5;241m=\u001b[39m FROLS(\n\u001b[0;32m      4\u001b[0m     order_selection\u001b[38;5;241m=\u001b[39m\u001b[38;5;28;01mTrue\u001b[39;00m,\n\u001b[0;32m      5\u001b[0m     n_info_values\u001b[38;5;241m=\u001b[39m\u001b[38;5;241m10\u001b[39m,\n\u001b[1;32m   (...)\u001b[0m\n\u001b[0;32m     11\u001b[0m     basis_function\u001b[38;5;241m=\u001b[39mbasis_function\n\u001b[0;32m     12\u001b[0m )\n\u001b[1;32m---> 13\u001b[0m model\u001b[38;5;241m.\u001b[39mfit(X\u001b[38;5;241m=\u001b[39mx_id, y\u001b[38;5;241m=\u001b[39my_id)\n",
      "File \u001b[1;32m~\\AppData\\Local\\anaconda3\\Lib\\site-packages\\sysidentpy\\model_structure_selection\\forward_regression_orthogonal_least_squares.py:522\u001b[0m, in \u001b[0;36mFROLS.fit\u001b[1;34m(self, X, y)\u001b[0m\n\u001b[0;32m    519\u001b[0m     \u001b[38;5;28;01mraise\u001b[39;00m \u001b[38;5;167;01mValueError\u001b[39;00m(\u001b[38;5;124m\"\u001b[39m\u001b[38;5;124my cannot be None\u001b[39m\u001b[38;5;124m\"\u001b[39m)\n\u001b[0;32m    521\u001b[0m \u001b[38;5;28mself\u001b[39m\u001b[38;5;241m.\u001b[39mmax_lag \u001b[38;5;241m=\u001b[39m \u001b[38;5;28mself\u001b[39m\u001b[38;5;241m.\u001b[39m_get_max_lag()\n\u001b[1;32m--> 522\u001b[0m lagged_data \u001b[38;5;241m=\u001b[39m \u001b[38;5;28mself\u001b[39m\u001b[38;5;241m.\u001b[39mbuild_matrix(X, y)\n\u001b[0;32m    524\u001b[0m \u001b[38;5;28;01mif\u001b[39;00m \u001b[38;5;28mself\u001b[39m\u001b[38;5;241m.\u001b[39mbasis_function\u001b[38;5;241m.\u001b[39m\u001b[38;5;18m__class__\u001b[39m\u001b[38;5;241m.\u001b[39m\u001b[38;5;18m__name__\u001b[39m \u001b[38;5;241m==\u001b[39m \u001b[38;5;124m\"\u001b[39m\u001b[38;5;124mPolynomial\u001b[39m\u001b[38;5;124m\"\u001b[39m:\n\u001b[0;32m    525\u001b[0m     reg_matrix \u001b[38;5;241m=\u001b[39m \u001b[38;5;28mself\u001b[39m\u001b[38;5;241m.\u001b[39mbasis_function\u001b[38;5;241m.\u001b[39mfit(\n\u001b[0;32m    526\u001b[0m         lagged_data, \u001b[38;5;28mself\u001b[39m\u001b[38;5;241m.\u001b[39mmax_lag, predefined_regressors\u001b[38;5;241m=\u001b[39m\u001b[38;5;28;01mNone\u001b[39;00m\n\u001b[0;32m    527\u001b[0m     )\n",
      "File \u001b[1;32m~\\AppData\\Local\\anaconda3\\Lib\\site-packages\\sysidentpy\\narmax_base.py:271\u001b[0m, in \u001b[0;36mInformationMatrix.build_input_output_matrix\u001b[1;34m(self, X, y)\u001b[0m\n\u001b[0;32m    248\u001b[0m \u001b[38;5;250m\u001b[39m\u001b[38;5;124;03m\"\"\"Build the information matrix.\u001b[39;00m\n\u001b[0;32m    249\u001b[0m \n\u001b[0;32m    250\u001b[0m \u001b[38;5;124;03mEach columns of the information matrix represents a candidate\u001b[39;00m\n\u001b[1;32m   (...)\u001b[0m\n\u001b[0;32m    265\u001b[0m \n\u001b[0;32m    266\u001b[0m \u001b[38;5;124;03m\"\"\"\u001b[39;00m\n\u001b[0;32m    267\u001b[0m \u001b[38;5;66;03m# Generate a lagged data which each column is a input or output\u001b[39;00m\n\u001b[0;32m    268\u001b[0m \u001b[38;5;66;03m# related to its respective lags. With this approach we can create\u001b[39;00m\n\u001b[0;32m    269\u001b[0m \u001b[38;5;66;03m# the information matrix by using all possible combination of\u001b[39;00m\n\u001b[0;32m    270\u001b[0m \u001b[38;5;66;03m# the columns as a product in the iterations\u001b[39;00m\n\u001b[1;32m--> 271\u001b[0m lagged_data \u001b[38;5;241m=\u001b[39m \u001b[38;5;28mself\u001b[39m\u001b[38;5;241m.\u001b[39minitial_lagged_matrix(X, y)\n\u001b[0;32m    272\u001b[0m constant \u001b[38;5;241m=\u001b[39m np\u001b[38;5;241m.\u001b[39mones([lagged_data\u001b[38;5;241m.\u001b[39mshape[\u001b[38;5;241m0\u001b[39m], \u001b[38;5;241m1\u001b[39m])\n\u001b[0;32m    273\u001b[0m data \u001b[38;5;241m=\u001b[39m np\u001b[38;5;241m.\u001b[39mconcatenate([constant, lagged_data], axis\u001b[38;5;241m=\u001b[39m\u001b[38;5;241m1\u001b[39m)\n",
      "File \u001b[1;32m~\\AppData\\Local\\anaconda3\\Lib\\site-packages\\sysidentpy\\narmax_base.py:184\u001b[0m, in \u001b[0;36mInformationMatrix.initial_lagged_matrix\u001b[1;34m(self, X, y)\u001b[0m\n\u001b[0;32m    182\u001b[0m \u001b[38;5;28mself\u001b[39m\u001b[38;5;241m.\u001b[39mylag \u001b[38;5;241m=\u001b[39m \u001b[38;5;28mself\u001b[39m\u001b[38;5;241m.\u001b[39m_process_ylag()\n\u001b[0;32m    183\u001b[0m x_lagged \u001b[38;5;241m=\u001b[39m \u001b[38;5;28mself\u001b[39m\u001b[38;5;241m.\u001b[39m_create_lagged_X(X, n_inputs)\n\u001b[1;32m--> 184\u001b[0m y_lagged \u001b[38;5;241m=\u001b[39m \u001b[38;5;28mself\u001b[39m\u001b[38;5;241m.\u001b[39m_create_lagged_y(y)\n\u001b[0;32m    185\u001b[0m lagged_data \u001b[38;5;241m=\u001b[39m np\u001b[38;5;241m.\u001b[39mconcatenate([y_lagged, x_lagged], axis\u001b[38;5;241m=\u001b[39m\u001b[38;5;241m1\u001b[39m)\n\u001b[0;32m    186\u001b[0m \u001b[38;5;28;01mreturn\u001b[39;00m lagged_data\n",
      "File \u001b[1;32m~\\AppData\\Local\\anaconda3\\Lib\\site-packages\\sysidentpy\\narmax_base.py:154\u001b[0m, in \u001b[0;36mInformationMatrix._create_lagged_y\u001b[1;34m(self, y)\u001b[0m\n\u001b[0;32m    138\u001b[0m \u001b[38;5;28;01mdef\u001b[39;00m \u001b[38;5;21m_create_lagged_y\u001b[39m(\u001b[38;5;28mself\u001b[39m, y: np\u001b[38;5;241m.\u001b[39mndarray) \u001b[38;5;241m-\u001b[39m\u001b[38;5;241m>\u001b[39m np\u001b[38;5;241m.\u001b[39mndarray:\n\u001b[0;32m    139\u001b[0m \u001b[38;5;250m    \u001b[39m\u001b[38;5;124;03m\"\"\"Create a lagged matrix of the output without combinations.\u001b[39;00m\n\u001b[0;32m    140\u001b[0m \n\u001b[0;32m    141\u001b[0m \u001b[38;5;124;03m    Parameters\u001b[39;00m\n\u001b[1;32m   (...)\u001b[0m\n\u001b[0;32m    151\u001b[0m \n\u001b[0;32m    152\u001b[0m \u001b[38;5;124;03m    \"\"\"\u001b[39;00m\n\u001b[0;32m    153\u001b[0m     y_lagged \u001b[38;5;241m=\u001b[39m np\u001b[38;5;241m.\u001b[39mcolumn_stack(\n\u001b[1;32m--> 154\u001b[0m         [\u001b[38;5;28mself\u001b[39m\u001b[38;5;241m.\u001b[39mshift_column(y[:, \u001b[38;5;241m0\u001b[39m], lag) \u001b[38;5;28;01mfor\u001b[39;00m lag \u001b[38;5;129;01min\u001b[39;00m \u001b[38;5;28mself\u001b[39m\u001b[38;5;241m.\u001b[39mylag]\n\u001b[0;32m    155\u001b[0m     )\n\u001b[0;32m    156\u001b[0m     \u001b[38;5;28;01mreturn\u001b[39;00m y_lagged\n",
      "File \u001b[1;32m~\\AppData\\Local\\anaconda3\\Lib\\site-packages\\sysidentpy\\narmax_base.py:154\u001b[0m, in \u001b[0;36m<listcomp>\u001b[1;34m(.0)\u001b[0m\n\u001b[0;32m    138\u001b[0m \u001b[38;5;28;01mdef\u001b[39;00m \u001b[38;5;21m_create_lagged_y\u001b[39m(\u001b[38;5;28mself\u001b[39m, y: np\u001b[38;5;241m.\u001b[39mndarray) \u001b[38;5;241m-\u001b[39m\u001b[38;5;241m>\u001b[39m np\u001b[38;5;241m.\u001b[39mndarray:\n\u001b[0;32m    139\u001b[0m \u001b[38;5;250m    \u001b[39m\u001b[38;5;124;03m\"\"\"Create a lagged matrix of the output without combinations.\u001b[39;00m\n\u001b[0;32m    140\u001b[0m \n\u001b[0;32m    141\u001b[0m \u001b[38;5;124;03m    Parameters\u001b[39;00m\n\u001b[1;32m   (...)\u001b[0m\n\u001b[0;32m    151\u001b[0m \n\u001b[0;32m    152\u001b[0m \u001b[38;5;124;03m    \"\"\"\u001b[39;00m\n\u001b[0;32m    153\u001b[0m     y_lagged \u001b[38;5;241m=\u001b[39m np\u001b[38;5;241m.\u001b[39mcolumn_stack(\n\u001b[1;32m--> 154\u001b[0m         [\u001b[38;5;28mself\u001b[39m\u001b[38;5;241m.\u001b[39mshift_column(y[:, \u001b[38;5;241m0\u001b[39m], lag) \u001b[38;5;28;01mfor\u001b[39;00m lag \u001b[38;5;129;01min\u001b[39;00m \u001b[38;5;28mself\u001b[39m\u001b[38;5;241m.\u001b[39mylag]\n\u001b[0;32m    155\u001b[0m     )\n\u001b[0;32m    156\u001b[0m     \u001b[38;5;28;01mreturn\u001b[39;00m y_lagged\n",
      "File \u001b[1;32m~\\AppData\\Local\\anaconda3\\Lib\\site-packages\\sysidentpy\\narmax_base.py:54\u001b[0m, in \u001b[0;36mInformationMatrix.shift_column\u001b[1;34m(self, col_to_shift, lag)\u001b[0m\n\u001b[0;32m     52\u001b[0m n_samples \u001b[38;5;241m=\u001b[39m col_to_shift\u001b[38;5;241m.\u001b[39mshape[\u001b[38;5;241m0\u001b[39m]\n\u001b[0;32m     53\u001b[0m tmp_column \u001b[38;5;241m=\u001b[39m np\u001b[38;5;241m.\u001b[39mzeros((n_samples, \u001b[38;5;241m1\u001b[39m))\n\u001b[1;32m---> 54\u001b[0m aux \u001b[38;5;241m=\u001b[39m col_to_shift[\u001b[38;5;241m0\u001b[39m : n_samples \u001b[38;5;241m-\u001b[39m lag]\u001b[38;5;241m.\u001b[39mreshape(\u001b[38;5;241m-\u001b[39m\u001b[38;5;241m1\u001b[39m, \u001b[38;5;241m1\u001b[39m)\n\u001b[0;32m     55\u001b[0m tmp_column[lag:, \u001b[38;5;241m0\u001b[39m] \u001b[38;5;241m=\u001b[39m aux[:, \u001b[38;5;241m0\u001b[39m]\n\u001b[0;32m     56\u001b[0m \u001b[38;5;28;01mreturn\u001b[39;00m tmp_column\n",
      "\u001b[1;31mTypeError\u001b[0m: unsupported operand type(s) for -: 'int' and 'list'"
     ]
    }
   ],
   "source": [
    "deg = 1\n",
    "basis_function = Polynomial(degree=deg)\n",
    "model = FROLS(\n",
    "    order_selection=True,\n",
    "    n_info_values=10,\n",
    "    extended_least_squares=False,\n",
    "    ylag=ylags,\n",
    "    xlag=xlags,\n",
    "    info_criteria='aic',\n",
    "    estimator='least_squares',\n",
    "    basis_function=basis_function\n",
    ")\n",
    "model.fit(X=x_id, y=y_id)\n",
    "\n"
   ]
  },
  {
   "cell_type": "code",
   "execution_count": 6,
   "id": "4442666c",
   "metadata": {},
   "outputs": [
    {
     "ename": "TypeError",
     "evalue": "'NoneType' object is not iterable",
     "output_type": "error",
     "traceback": [
      "\u001b[1;31m---------------------------------------------------------------------------\u001b[0m",
      "\u001b[1;31mTypeError\u001b[0m                                 Traceback (most recent call last)",
      "Cell \u001b[1;32mIn[6], line 1\u001b[0m\n\u001b[1;32m----> 1\u001b[0m yhat \u001b[38;5;241m=\u001b[39m model\u001b[38;5;241m.\u001b[39mpredict(X\u001b[38;5;241m=\u001b[39mx_val, y\u001b[38;5;241m=\u001b[39my_val)\n\u001b[0;32m      2\u001b[0m rrse \u001b[38;5;241m=\u001b[39m root_relative_squared_error(y_val, yhat)\n\u001b[0;32m      4\u001b[0m \u001b[38;5;28mprint\u001b[39m(\u001b[38;5;124m'\u001b[39m\u001b[38;5;124mPolynomial degree: \u001b[39m\u001b[38;5;124m'\u001b[39m\u001b[38;5;241m+\u001b[39m\u001b[38;5;28mstr\u001b[39m(deg))\n",
      "File \u001b[1;32m~\\AppData\\Local\\anaconda3\\Lib\\site-packages\\sysidentpy\\model_structure_selection\\forward_regression_orthogonal_least_squares.py:616\u001b[0m, in \u001b[0;36mFROLS.predict\u001b[1;34m(self, X, y, steps_ahead, forecast_horizon)\u001b[0m\n\u001b[0;32m    614\u001b[0m \u001b[38;5;28;01mif\u001b[39;00m \u001b[38;5;28mself\u001b[39m\u001b[38;5;241m.\u001b[39mbasis_function\u001b[38;5;241m.\u001b[39m\u001b[38;5;18m__class__\u001b[39m\u001b[38;5;241m.\u001b[39m\u001b[38;5;18m__name__\u001b[39m \u001b[38;5;241m==\u001b[39m \u001b[38;5;124m\"\u001b[39m\u001b[38;5;124mPolynomial\u001b[39m\u001b[38;5;124m\"\u001b[39m:\n\u001b[0;32m    615\u001b[0m     \u001b[38;5;28;01mif\u001b[39;00m steps_ahead \u001b[38;5;129;01mis\u001b[39;00m \u001b[38;5;28;01mNone\u001b[39;00m:\n\u001b[1;32m--> 616\u001b[0m         yhat \u001b[38;5;241m=\u001b[39m \u001b[38;5;28mself\u001b[39m\u001b[38;5;241m.\u001b[39m_model_prediction(X, y, forecast_horizon\u001b[38;5;241m=\u001b[39mforecast_horizon)\n\u001b[0;32m    617\u001b[0m         yhat \u001b[38;5;241m=\u001b[39m np\u001b[38;5;241m.\u001b[39mconcatenate([y[: \u001b[38;5;28mself\u001b[39m\u001b[38;5;241m.\u001b[39mmax_lag], yhat], axis\u001b[38;5;241m=\u001b[39m\u001b[38;5;241m0\u001b[39m)\n\u001b[0;32m    618\u001b[0m         \u001b[38;5;28;01mreturn\u001b[39;00m yhat\n",
      "File \u001b[1;32m~\\AppData\\Local\\anaconda3\\Lib\\site-packages\\sysidentpy\\model_structure_selection\\forward_regression_orthogonal_least_squares.py:717\u001b[0m, in \u001b[0;36mFROLS._model_prediction\u001b[1;34m(self, X, y_initial, forecast_horizon)\u001b[0m\n\u001b[0;32m    700\u001b[0m \u001b[38;5;250m\u001b[39m\u001b[38;5;124;03m\"\"\"Perform the infinity steps-ahead simulation of a model.\u001b[39;00m\n\u001b[0;32m    701\u001b[0m \n\u001b[0;32m    702\u001b[0m \u001b[38;5;124;03mParameters\u001b[39;00m\n\u001b[1;32m   (...)\u001b[0m\n\u001b[0;32m    714\u001b[0m \n\u001b[0;32m    715\u001b[0m \u001b[38;5;124;03m\"\"\"\u001b[39;00m\n\u001b[0;32m    716\u001b[0m \u001b[38;5;28;01mif\u001b[39;00m \u001b[38;5;28mself\u001b[39m\u001b[38;5;241m.\u001b[39mmodel_type \u001b[38;5;129;01min\u001b[39;00m [\u001b[38;5;124m\"\u001b[39m\u001b[38;5;124mNARMAX\u001b[39m\u001b[38;5;124m\"\u001b[39m, \u001b[38;5;124m\"\u001b[39m\u001b[38;5;124mNAR\u001b[39m\u001b[38;5;124m\"\u001b[39m]:\n\u001b[1;32m--> 717\u001b[0m     \u001b[38;5;28;01mreturn\u001b[39;00m \u001b[38;5;28mself\u001b[39m\u001b[38;5;241m.\u001b[39m_narmax_predict(X, y_initial, forecast_horizon)\n\u001b[0;32m    719\u001b[0m \u001b[38;5;28;01mif\u001b[39;00m \u001b[38;5;28mself\u001b[39m\u001b[38;5;241m.\u001b[39mmodel_type \u001b[38;5;241m==\u001b[39m \u001b[38;5;124m\"\u001b[39m\u001b[38;5;124mNFIR\u001b[39m\u001b[38;5;124m\"\u001b[39m:\n\u001b[0;32m    720\u001b[0m     \u001b[38;5;28;01mreturn\u001b[39;00m \u001b[38;5;28mself\u001b[39m\u001b[38;5;241m.\u001b[39m_nfir_predict(X, y_initial)\n",
      "File \u001b[1;32m~\\AppData\\Local\\anaconda3\\Lib\\site-packages\\sysidentpy\\model_structure_selection\\forward_regression_orthogonal_least_squares.py:741\u001b[0m, in \u001b[0;36mFROLS._narmax_predict\u001b[1;34m(self, X, y_initial, forecast_horizon)\u001b[0m\n\u001b[0;32m    738\u001b[0m \u001b[38;5;28;01mif\u001b[39;00m \u001b[38;5;28mself\u001b[39m\u001b[38;5;241m.\u001b[39mmodel_type \u001b[38;5;241m==\u001b[39m \u001b[38;5;124m\"\u001b[39m\u001b[38;5;124mNAR\u001b[39m\u001b[38;5;124m\"\u001b[39m:\n\u001b[0;32m    739\u001b[0m     \u001b[38;5;28mself\u001b[39m\u001b[38;5;241m.\u001b[39mn_inputs \u001b[38;5;241m=\u001b[39m \u001b[38;5;241m0\u001b[39m\n\u001b[1;32m--> 741\u001b[0m y_output \u001b[38;5;241m=\u001b[39m \u001b[38;5;28msuper\u001b[39m()\u001b[38;5;241m.\u001b[39m_narmax_predict(X, y_initial, forecast_horizon)\n\u001b[0;32m    742\u001b[0m \u001b[38;5;28;01mreturn\u001b[39;00m y_output\n",
      "File \u001b[1;32m~\\AppData\\Local\\anaconda3\\Lib\\site-packages\\sysidentpy\\narmax_base.py:688\u001b[0m, in \u001b[0;36mBaseMSS._narmax_predict\u001b[1;34m(self, X, y_initial, forecast_horizon)\u001b[0m\n\u001b[0;32m    685\u001b[0m y_output\u001b[38;5;241m.\u001b[39mfill(np\u001b[38;5;241m.\u001b[39mnan)\n\u001b[0;32m    686\u001b[0m y_output[: \u001b[38;5;28mself\u001b[39m\u001b[38;5;241m.\u001b[39mmax_lag] \u001b[38;5;241m=\u001b[39m y_initial[: \u001b[38;5;28mself\u001b[39m\u001b[38;5;241m.\u001b[39mmax_lag, \u001b[38;5;241m0\u001b[39m]\n\u001b[1;32m--> 688\u001b[0m model_exponents \u001b[38;5;241m=\u001b[39m [\n\u001b[0;32m    689\u001b[0m     \u001b[38;5;28mself\u001b[39m\u001b[38;5;241m.\u001b[39m_code2exponents(code\u001b[38;5;241m=\u001b[39mmodel) \u001b[38;5;28;01mfor\u001b[39;00m model \u001b[38;5;129;01min\u001b[39;00m \u001b[38;5;28mself\u001b[39m\u001b[38;5;241m.\u001b[39mfinal_model\n\u001b[0;32m    690\u001b[0m ]\n\u001b[0;32m    691\u001b[0m raw_regressor \u001b[38;5;241m=\u001b[39m np\u001b[38;5;241m.\u001b[39mzeros(\u001b[38;5;28mlen\u001b[39m(model_exponents[\u001b[38;5;241m0\u001b[39m]), dtype\u001b[38;5;241m=\u001b[39m\u001b[38;5;28mfloat\u001b[39m)\n\u001b[0;32m    692\u001b[0m \u001b[38;5;28;01mfor\u001b[39;00m i \u001b[38;5;129;01min\u001b[39;00m \u001b[38;5;28mrange\u001b[39m(\u001b[38;5;28mself\u001b[39m\u001b[38;5;241m.\u001b[39mmax_lag, forecast_horizon):\n",
      "\u001b[1;31mTypeError\u001b[0m: 'NoneType' object is not iterable"
     ]
    }
   ],
   "source": [
    "\n",
    "yhat = model.predict(X=x_val, y=y_val)\n",
    "rrse = root_relative_squared_error(y_val, yhat)\n",
    "\n",
    "print('Polynomial degree: '+str(deg))\n",
    "print('Input lags: '+str(xlags[0]))\n",
    "print('Output lags: '+str(ylags))\n",
    "print('RRSE: '+str(round(rrse,3)))\n",
    "print(' ')\n",
    "\n",
    "r = pd.DataFrame(\n",
    "    results(\n",
    "        model.final_model, model.theta, model.err,\n",
    "        model.n_terms, err_precision=8, dtype='sci'\n",
    "        ),\n",
    "    columns=['Regressors', 'Parameters', 'ERR'])\n",
    "print(r)\n",
    "plot_results(y=y_val[0:100], yhat=yhat[0:100], n=1000)\n"
   ]
  },
  {
   "cell_type": "code",
   "execution_count": null,
   "id": "7f7f8359",
   "metadata": {},
   "outputs": [],
   "source": []
  }
 ],
 "metadata": {
  "kernelspec": {
   "display_name": "Python 3 (ipykernel)",
   "language": "python",
   "name": "python3"
  },
  "language_info": {
   "codemirror_mode": {
    "name": "ipython",
    "version": 3
   },
   "file_extension": ".py",
   "mimetype": "text/x-python",
   "name": "python",
   "nbconvert_exporter": "python",
   "pygments_lexer": "ipython3",
   "version": "3.11.4"
  }
 },
 "nbformat": 4,
 "nbformat_minor": 5
}
