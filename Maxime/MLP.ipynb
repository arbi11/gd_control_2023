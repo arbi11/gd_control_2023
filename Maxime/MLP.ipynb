{
 "cells": [
  {
   "cell_type": "code",
   "execution_count": 634,
   "id": "c0d9d8c6",
   "metadata": {},
   "outputs": [
    {
     "name": "stdout",
     "output_type": "stream",
     "text": [
      "          I_1     I_2     I_3  Rotor_posn\n",
      "0      968.04  968.04  968.04    0.000000\n",
      "1      968.04  968.04  968.04   -0.085714\n",
      "2      968.04  968.04  968.04   -0.171429\n",
      "3      968.04  968.04  968.04   -0.257143\n",
      "4      968.04  968.04  968.04   -0.342857\n",
      "...       ...     ...     ...         ...\n",
      "20021  107.40  107.40  107.40   -2.228571\n",
      "20022  107.40  107.40  107.40   -2.314286\n",
      "20023  107.40  107.40  107.40   -2.400000\n",
      "20024  107.40  107.40  107.40   -2.485714\n",
      "20025  107.40  107.40  107.40   -2.571429\n",
      "\n",
      "[20026 rows x 4 columns]\n",
      "-2.571429\n"
     ]
    }
   ],
   "source": [
    "import csv\n",
    "import numpy as np\n",
    "import pandas as pd\n",
    "import matplotlib.pyplot as plt\n",
    "from sklearn.model_selection import train_test_split\n",
    "from sklearn.preprocessing import StandardScaler\n",
    "from sklearn.neural_network import MLPRegressor\n",
    "from sklearn import metrics\n",
    "from sklearn.preprocessing import MinMaxScaler\n",
    "\n",
    "\n",
    "url = \"C:/Users/mfavre4/Desktop/System_Identification/Python_Package/Data/training_data_indiRotorTorque_Sep13.csv\"\n",
    "df = pd.read_csv(url, sep=\",\")\n",
    "dataset = df.astype(float)\n",
    "\n",
    "\n",
    "#Outputs - Torque at each rotor poe\n",
    "Output = (dataset['R_Core_2'])\n",
    "\n",
    "#INputs\n",
    "ds_I = dataset['Excitation']\n",
    "ds_Pos = (dataset['Rotor_posn'])\n",
    "ds_I1 = (ds_I).rename('I_1') \n",
    "ds_I2 = (ds_I).rename('I_2')\n",
    "ds_I3 = (ds_I).rename('I_3')\n",
    "\n",
    "Inputs = pd.concat([ds_I1,ds_I2, ds_I3,ds_Pos], axis=1)\n",
    "\n",
    "x_train, x_test, y_train, y_test = train_test_split(Inputs, Output, test_size = 0.2)\n",
    "\n",
    "norm_I = (ds_I-ds_I.mean())/(ds_I.std())\n",
    "\n",
    " \n",
    "\n",
    "\n",
    "\n"
   ]
  },
  {
   "cell_type": "code",
   "execution_count": 669,
   "id": "46de4900",
   "metadata": {},
   "outputs": [
    {
     "name": "stdout",
     "output_type": "stream",
     "text": [
      "[[289.20140633]\n",
      " [692.51632346]\n",
      " [808.63887494]\n",
      " ...\n",
      " [108.08638875]\n",
      " [459.96986439]\n",
      " [252.938222  ]]\n"
     ]
    }
   ],
   "source": [
    "#Normalization\n",
    "\"\"\"\n",
    "scaler = MinMaxScaler()\n",
    "Xscaler = scaler.fit(x_train)\n",
    "\n",
    "x_train_sc = Xscaler.fit_transform(x_train)\n",
    "x_test_sc = Xscaler.fit_transform(x_test)\n",
    "\"\"\"\n",
    "\n",
    "scaler_pos = MinMaxScaler(feature_range=(0, 15))\n",
    "Xpos_scaler =scaler_pos.fit(x_train['Rotor_posn'].values.reshape(-1,1)) \n",
    "\n",
    "scaler_I = MinMaxScaler(feature_range=(0, 1000))\n",
    "XI_scaler =scaler_I.fit(x_train['I_1'].values.reshape(-1,1)) \n",
    "\n",
    "I1_sc = XI_scaler.fit_transform(x_train['I_1'].values.reshape(-1, 1))\n",
    "I2_sc = XI_scaler.fit_transform(x_train['I_2'].values.reshape(-1, 1))\n",
    "I3_sc = XI_scaler.fit_transform(x_train['I_3'].values.reshape(-1, 1))\n",
    "Pos_sc =          \n",
    "print(I1_sc)         \n",
    "\n",
    "#x_train_sc = concatenate(),axis=1)\n",
    "\n",
    "\n"
   ]
  },
  {
   "cell_type": "markdown",
   "id": "c0e30564",
   "metadata": {},
   "source": []
  },
  {
   "cell_type": "code",
   "execution_count": 644,
   "id": "e0f90b7d",
   "metadata": {},
   "outputs": [
    {
     "name": "stdout",
     "output_type": "stream",
     "text": [
      "[[0.77338021 0.77338021 0.77338021 0.93333318]\n",
      " [0.5874435  0.5874435  0.5874435  0.63333345]\n",
      " [0.80773481 0.80773481 0.80773481 0.16666686]\n",
      " ...\n",
      " [0.82300352 0.82300352 0.82300352 0.60000023]\n",
      " [0.1801105  0.1801105  0.1801105  0.40000016]\n",
      " [0.69532898 0.69532898 0.69532898 0.76666671]]\n",
      "14744   -15.808874\n",
      "11806   -43.005453\n",
      "10      -30.200157\n",
      "18808   -56.391705\n",
      "1168    -29.191847\n",
      "           ...    \n",
      "6090      1.171422\n",
      "471     -15.517880\n",
      "17512     4.793805\n",
      "19294   -55.875633\n",
      "17895   -32.688547\n",
      "Name: R_Core_2, Length: 16020, dtype: float64\n"
     ]
    }
   ],
   "source": [
    "print(x_test_sc)\n",
    "print(y_train)"
   ]
  },
  {
   "cell_type": "code",
   "execution_count": 651,
   "id": "7bef3edb",
   "metadata": {},
   "outputs": [
    {
     "data": {
      "text/html": [
       "<style>#sk-container-id-77 {color: black;}#sk-container-id-77 pre{padding: 0;}#sk-container-id-77 div.sk-toggleable {background-color: white;}#sk-container-id-77 label.sk-toggleable__label {cursor: pointer;display: block;width: 100%;margin-bottom: 0;padding: 0.3em;box-sizing: border-box;text-align: center;}#sk-container-id-77 label.sk-toggleable__label-arrow:before {content: \"▸\";float: left;margin-right: 0.25em;color: #696969;}#sk-container-id-77 label.sk-toggleable__label-arrow:hover:before {color: black;}#sk-container-id-77 div.sk-estimator:hover label.sk-toggleable__label-arrow:before {color: black;}#sk-container-id-77 div.sk-toggleable__content {max-height: 0;max-width: 0;overflow: hidden;text-align: left;background-color: #f0f8ff;}#sk-container-id-77 div.sk-toggleable__content pre {margin: 0.2em;color: black;border-radius: 0.25em;background-color: #f0f8ff;}#sk-container-id-77 input.sk-toggleable__control:checked~div.sk-toggleable__content {max-height: 200px;max-width: 100%;overflow: auto;}#sk-container-id-77 input.sk-toggleable__control:checked~label.sk-toggleable__label-arrow:before {content: \"▾\";}#sk-container-id-77 div.sk-estimator input.sk-toggleable__control:checked~label.sk-toggleable__label {background-color: #d4ebff;}#sk-container-id-77 div.sk-label input.sk-toggleable__control:checked~label.sk-toggleable__label {background-color: #d4ebff;}#sk-container-id-77 input.sk-hidden--visually {border: 0;clip: rect(1px 1px 1px 1px);clip: rect(1px, 1px, 1px, 1px);height: 1px;margin: -1px;overflow: hidden;padding: 0;position: absolute;width: 1px;}#sk-container-id-77 div.sk-estimator {font-family: monospace;background-color: #f0f8ff;border: 1px dotted black;border-radius: 0.25em;box-sizing: border-box;margin-bottom: 0.5em;}#sk-container-id-77 div.sk-estimator:hover {background-color: #d4ebff;}#sk-container-id-77 div.sk-parallel-item::after {content: \"\";width: 100%;border-bottom: 1px solid gray;flex-grow: 1;}#sk-container-id-77 div.sk-label:hover label.sk-toggleable__label {background-color: #d4ebff;}#sk-container-id-77 div.sk-serial::before {content: \"\";position: absolute;border-left: 1px solid gray;box-sizing: border-box;top: 0;bottom: 0;left: 50%;z-index: 0;}#sk-container-id-77 div.sk-serial {display: flex;flex-direction: column;align-items: center;background-color: white;padding-right: 0.2em;padding-left: 0.2em;position: relative;}#sk-container-id-77 div.sk-item {position: relative;z-index: 1;}#sk-container-id-77 div.sk-parallel {display: flex;align-items: stretch;justify-content: center;background-color: white;position: relative;}#sk-container-id-77 div.sk-item::before, #sk-container-id-77 div.sk-parallel-item::before {content: \"\";position: absolute;border-left: 1px solid gray;box-sizing: border-box;top: 0;bottom: 0;left: 50%;z-index: -1;}#sk-container-id-77 div.sk-parallel-item {display: flex;flex-direction: column;z-index: 1;position: relative;background-color: white;}#sk-container-id-77 div.sk-parallel-item:first-child::after {align-self: flex-end;width: 50%;}#sk-container-id-77 div.sk-parallel-item:last-child::after {align-self: flex-start;width: 50%;}#sk-container-id-77 div.sk-parallel-item:only-child::after {width: 0;}#sk-container-id-77 div.sk-dashed-wrapped {border: 1px dashed gray;margin: 0 0.4em 0.5em 0.4em;box-sizing: border-box;padding-bottom: 0.4em;background-color: white;}#sk-container-id-77 div.sk-label label {font-family: monospace;font-weight: bold;display: inline-block;line-height: 1.2em;}#sk-container-id-77 div.sk-label-container {text-align: center;}#sk-container-id-77 div.sk-container {/* jupyter's `normalize.less` sets `[hidden] { display: none; }` but bootstrap.min.css set `[hidden] { display: none !important; }` so we also need the `!important` here to be able to override the default hidden behavior on the sphinx rendered scikit-learn.org. See: https://github.com/scikit-learn/scikit-learn/issues/21755 */display: inline-block !important;position: relative;}#sk-container-id-77 div.sk-text-repr-fallback {display: none;}</style><div id=\"sk-container-id-77\" class=\"sk-top-container\"><div class=\"sk-text-repr-fallback\"><pre>MLPRegressor(hidden_layer_sizes=(5,), max_iter=2000)</pre><b>In a Jupyter environment, please rerun this cell to show the HTML representation or trust the notebook. <br />On GitHub, the HTML representation is unable to render, please try loading this page with nbviewer.org.</b></div><div class=\"sk-container\" hidden><div class=\"sk-item\"><div class=\"sk-estimator sk-toggleable\"><input class=\"sk-toggleable__control sk-hidden--visually\" id=\"sk-estimator-id-77\" type=\"checkbox\" checked><label for=\"sk-estimator-id-77\" class=\"sk-toggleable__label sk-toggleable__label-arrow\">MLPRegressor</label><div class=\"sk-toggleable__content\"><pre>MLPRegressor(hidden_layer_sizes=(5,), max_iter=2000)</pre></div></div></div></div></div>"
      ],
      "text/plain": [
       "MLPRegressor(hidden_layer_sizes=(5,), max_iter=2000)"
      ]
     },
     "execution_count": 651,
     "metadata": {},
     "output_type": "execute_result"
    }
   ],
   "source": [
    "mlp_reg = MLPRegressor(hidden_layer_sizes=(5,), \n",
    "                       max_iter = 2000,activation = 'relu',\n",
    "                       solver = 'adam')\n",
    "\n",
    "mlp_reg.fit(x_train, y_train.ravel())"
   ]
  },
  {
   "cell_type": "code",
   "execution_count": 652,
   "id": "cd804aa9",
   "metadata": {},
   "outputs": [],
   "source": [
    "y_pred = mlp_reg.predict(x_test)"
   ]
  },
  {
   "cell_type": "code",
   "execution_count": 653,
   "id": "54f8e3dc",
   "metadata": {},
   "outputs": [
    {
     "data": {
      "image/png": "[encoded data removed]",
      "text/plain": [
       "<Figure size 640x480 with 1 Axes>"
      ]
     },
     "metadata": {},
     "output_type": "display_data"
    },
    {
     "data": {
      "text/html": [
       "<div>\n",
       "<style scoped>\n",
       "    .dataframe tbody tr th:only-of-type {\n",
       "        vertical-align: middle;\n",
       "    }\n",
       "\n",
       "    .dataframe tbody tr th {\n",
       "        vertical-align: top;\n",
       "    }\n",
       "\n",
       "    .dataframe thead th {\n",
       "        text-align: right;\n",
       "    }\n",
       "</style>\n",
       "<table border=\"1\" class=\"dataframe\">\n",
       "  <thead>\n",
       "    <tr style=\"text-align: right;\">\n",
       "      <th></th>\n",
       "      <th>Actual</th>\n",
       "      <th>Predicted</th>\n",
       "    </tr>\n",
       "  </thead>\n",
       "  <tbody>\n",
       "    <tr>\n",
       "      <th>0</th>\n",
       "      <td>-63.195819</td>\n",
       "      <td>-24.780387</td>\n",
       "    </tr>\n",
       "    <tr>\n",
       "      <th>1</th>\n",
       "      <td>-24.146327</td>\n",
       "      <td>-24.929000</td>\n",
       "    </tr>\n",
       "    <tr>\n",
       "      <th>2</th>\n",
       "      <td>-25.338062</td>\n",
       "      <td>-29.354381</td>\n",
       "    </tr>\n",
       "    <tr>\n",
       "      <th>3</th>\n",
       "      <td>-53.068889</td>\n",
       "      <td>-21.605774</td>\n",
       "    </tr>\n",
       "    <tr>\n",
       "      <th>4</th>\n",
       "      <td>-22.397680</td>\n",
       "      <td>-20.494599</td>\n",
       "    </tr>\n",
       "  </tbody>\n",
       "</table>\n",
       "</div>"
      ],
      "text/plain": [
       "      Actual  Predicted\n",
       "0 -63.195819 -24.780387\n",
       "1 -24.146327 -24.929000\n",
       "2 -25.338062 -29.354381\n",
       "3 -53.068889 -21.605774\n",
       "4 -22.397680 -20.494599"
      ]
     },
     "execution_count": 653,
     "metadata": {},
     "output_type": "execute_result"
    }
   ],
   "source": [
    "plt.plot(mlp_reg.loss_curve_)\n",
    "plt.plot(mlp_reg.loss_curve_)\n",
    "plt.title(\"Loss Curve\", fontsize=14)\n",
    "plt.xlabel('Iterations')\n",
    "plt.ylabel('Cost')\n",
    "plt.show()\n",
    "df_temp = pd.DataFrame({'Actual': y_test.ravel(), 'Predicted': y_pred})\n",
    "df_temp.head()\n"
   ]
  },
  {
   "cell_type": "code",
   "execution_count": 654,
   "id": "b9112d21",
   "metadata": {},
   "outputs": [
    {
     "data": {
      "text/plain": [
       "-0.021215275976473658"
      ]
     },
     "execution_count": 654,
     "metadata": {},
     "output_type": "execute_result"
    }
   ],
   "source": [
    "\n",
    "#mlp_reg.score(norm_inputs, Output)\n",
    "metrics.r2_score(y_test, y_pred)"
   ]
  },
  {
   "cell_type": "code",
   "execution_count": 655,
   "id": "38ae0d95",
   "metadata": {},
   "outputs": [
    {
     "data": {
      "image/png": "[encoded data removed]",
      "text/plain": [
       "<Figure size 1000x600 with 1 Axes>"
      ]
     },
     "metadata": {},
     "output_type": "display_data"
    }
   ],
   "source": [
    "df_temp = df_temp.head(30)\n",
    "df_temp.plot(kind='bar',figsize=(10,6))\n",
    "plt.grid(which='major', linestyle='-', linewidth='0.5', color='green')\n",
    "plt.grid(which='minor', linestyle=':', linewidth='0.5', color='black')\n",
    "plt.show()"
   ]
  },
  {
   "cell_type": "code",
   "execution_count": 656,
   "id": "cb6c8f44",
   "metadata": {},
   "outputs": [
    {
     "name": "stdout",
     "output_type": "stream",
     "text": [
      "Mean Absolute Error: 23.111551590487935\n",
      "Mean Squared Error: 908.8722475259267\n",
      "Root Mean Squared Error: 30.147508147870642\n"
     ]
    }
   ],
   "source": [
    "print('Mean Absolute Error:', metrics.mean_absolute_error(y_test.ravel(), y_pred))  \n",
    "print('Mean Squared Error:', metrics.mean_squared_error(y_test.ravel(), y_pred))  \n",
    "print('Root Mean Squared Error:', np.sqrt(metrics.mean_squared_error(y_test.ravel(), y_pred)))"
   ]
  },
  {
   "cell_type": "code",
   "execution_count": null,
   "id": "6ff9d07f",
   "metadata": {},
   "outputs": [],
   "source": []
  },
  {
   "cell_type": "code",
   "execution_count": null,
   "id": "7601f4ce",
   "metadata": {},
   "outputs": [],
   "source": []
  },
  {
   "cell_type": "code",
   "execution_count": null,
   "id": "ea5a863b",
   "metadata": {},
   "outputs": [],
   "source": []
  },
  {
   "cell_type": "code",
   "execution_count": null,
   "id": "f9ffde81",
   "metadata": {},
   "outputs": [],
   "source": []
  }
 ],
 "metadata": {
  "kernelspec": {
   "display_name": "Python 3 (ipykernel)",
   "language": "python",
   "name": "python3"
  },
  "language_info": {
   "codemirror_mode": {
    "name": "ipython",
    "version": 3
   },
   "file_extension": ".py",
   "mimetype": "text/x-python",
   "name": "python",
   "nbconvert_exporter": "python",
   "pygments_lexer": "ipython3",
   "version": "3.11.4"
  }
 },
 "nbformat": 4,
 "nbformat_minor": 5
}
